{
 "cells": [
  {
   "cell_type": "code",
   "execution_count": 9,
   "metadata": {},
   "outputs": [],
   "source": [
    "import pandas as pd\n",
    "from io import BytesIO\n",
    "from PIL import Image\n",
    "import requests\n",
    "import os"
   ]
  },
  {
   "cell_type": "code",
   "execution_count": 10,
   "metadata": {},
   "outputs": [],
   "source": [
    "df = pd.read_parquet(\"hf://datasets/bghira/photo-concept-bucket/photo-concept-bucket.parquet\")"
   ]
  },
  {
   "cell_type": "code",
   "execution_count": 3,
   "metadata": {},
   "outputs": [
    {
     "data": {
      "text/html": [
       "<div>\n",
       "<style scoped>\n",
       "    .dataframe tbody tr th:only-of-type {\n",
       "        vertical-align: middle;\n",
       "    }\n",
       "\n",
       "    .dataframe tbody tr th {\n",
       "        vertical-align: top;\n",
       "    }\n",
       "\n",
       "    .dataframe thead th {\n",
       "        text-align: right;\n",
       "    }\n",
       "</style>\n",
       "<table border=\"1\" class=\"dataframe\">\n",
       "  <thead>\n",
       "    <tr style=\"text-align: right;\">\n",
       "      <th></th>\n",
       "      <th>id</th>\n",
       "      <th>class_label</th>\n",
       "      <th>type</th>\n",
       "      <th>slug</th>\n",
       "      <th>description</th>\n",
       "      <th>alt</th>\n",
       "      <th>created_at</th>\n",
       "      <th>title</th>\n",
       "      <th>location</th>\n",
       "      <th>tags</th>\n",
       "      <th>main_color</th>\n",
       "      <th>colors</th>\n",
       "      <th>width</th>\n",
       "      <th>height</th>\n",
       "      <th>aspect_ratio</th>\n",
       "      <th>url</th>\n",
       "      <th>cogvlm_caption</th>\n",
       "      <th>megapixels</th>\n",
       "    </tr>\n",
       "  </thead>\n",
       "  <tbody>\n",
       "    <tr>\n",
       "      <th>271389</th>\n",
       "      <td>474</td>\n",
       "      <td>quantum mechanics</td>\n",
       "      <td>photo</td>\n",
       "      <td>black-and-white-car-vehicle-vintage</td>\n",
       "      <td></td>\n",
       "      <td>Person Fixing Car</td>\n",
       "      <td>2015-05-16T15:42:51.000Z</td>\n",
       "      <td>Person Fixing Car</td>\n",
       "      <td>None</td>\n",
       "      <td>black and white, car, classic, garage, job, me...</td>\n",
       "      <td>[89, 89, 89]</td>\n",
       "      <td>[#3a3a3a, #8c8c8c, #cacaca]</td>\n",
       "      <td>6000</td>\n",
       "      <td>4000</td>\n",
       "      <td>1.5</td>\n",
       "      <td>https://images.pexels.com/photos/474/black-and...</td>\n",
       "      <td>A person is working underneath a car in a gara...</td>\n",
       "      <td>24.0</td>\n",
       "    </tr>\n",
       "  </tbody>\n",
       "</table>\n",
       "</div>"
      ],
      "text/plain": [
       "         id        class_label   type                                 slug  \\\n",
       "271389  474  quantum mechanics  photo  black-and-white-car-vehicle-vintage   \n",
       "\n",
       "       description                alt                created_at  \\\n",
       "271389              Person Fixing Car  2015-05-16T15:42:51.000Z   \n",
       "\n",
       "                    title location  \\\n",
       "271389  Person Fixing Car     None   \n",
       "\n",
       "                                                     tags    main_color  \\\n",
       "271389  black and white, car, classic, garage, job, me...  [89, 89, 89]   \n",
       "\n",
       "                             colors  width  height  aspect_ratio  \\\n",
       "271389  [#3a3a3a, #8c8c8c, #cacaca]   6000    4000           1.5   \n",
       "\n",
       "                                                      url  \\\n",
       "271389  https://images.pexels.com/photos/474/black-and...   \n",
       "\n",
       "                                           cogvlm_caption  megapixels  \n",
       "271389  A person is working underneath a car in a gara...        24.0  "
      ]
     },
     "execution_count": 3,
     "metadata": {},
     "output_type": "execute_result"
    }
   ],
   "source": [
    "df.head(1)"
   ]
  },
  {
   "cell_type": "code",
   "execution_count": 7,
   "metadata": {},
   "outputs": [],
   "source": [
    "index = 0\n",
    "# i want 200 images\n",
    "while len(os.listdir('images/training_set')) < 200:\n",
    "    url = df.iloc[index]['url']\n",
    "    \n",
    "    response = requests.get(url)\n",
    "    image = None\n",
    "    if response.status_code == 200:\n",
    "        image = Image.open(BytesIO(response.content))\n",
    "    else:\n",
    "        index += 1\n",
    "        continue\n",
    "    \n",
    "    width, height = image.size\n",
    "    \n",
    "    # keep only images >= 2k resolution\n",
    "    if width < 2560 and height < 1440:\n",
    "        index += 1\n",
    "        continue\n",
    "\n",
    "    # center box on image\n",
    "    target_width, target_height = 2560, 1440\n",
    "    left = (width - target_width) // 2\n",
    "    top = (height - target_height) // 2\n",
    "    right = left + target_width\n",
    "    bottom = top + target_height\n",
    "    crop_box = (left, top, right, bottom)\n",
    "    cropped_image = image.crop(crop_box)\n",
    "    \n",
    "    cropped_image.save(f'images/training_set/image_{index}.jpg')\n",
    "    index += 1    "
   ]
  }
 ],
 "metadata": {
  "kernelspec": {
   "display_name": "pytorch",
   "language": "python",
   "name": "python3"
  },
  "language_info": {
   "codemirror_mode": {
    "name": "ipython",
    "version": 3
   },
   "file_extension": ".py",
   "mimetype": "text/x-python",
   "name": "python",
   "nbconvert_exporter": "python",
   "pygments_lexer": "ipython3",
   "version": "3.12.9"
  }
 },
 "nbformat": 4,
 "nbformat_minor": 2
}
